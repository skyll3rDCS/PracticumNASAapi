{
 "cells": [
  {
   "cell_type": "code",
   "execution_count": 9,
   "id": "c1a2c2f6",
   "metadata": {},
   "outputs": [],
   "source": [
    "import requests\n",
    "from IPython.display import Image"
   ]
  },
  {
   "cell_type": "code",
   "execution_count": 18,
   "id": "5bbebb4e",
   "metadata": {},
   "outputs": [
    {
     "data": {
      "text/plain": [
       "['https://mars.nasa.gov/msl-raw-images/proj/msl/redops/ods/surface/sol/03379/opgs/edr/fcam/FLB_697469295EDR_F0930838FHAZ00302M_.JPG',\n",
       " 'https://mars.nasa.gov/msl-raw-images/proj/msl/redops/ods/surface/sol/03379/opgs/edr/fcam/FRB_697469295EDR_F0930838FHAZ00302M_.JPG',\n",
       " 'https://mars.nasa.gov/msl-raw-images/proj/msl/redops/ods/surface/sol/03379/opgs/edr/rcam/RLB_697469444EDR_F0930838RHAZ00311M_.JPG']"
      ]
     },
     "execution_count": 18,
     "metadata": {},
     "output_type": "execute_result"
    }
   ],
   "source": [
    "API_key = 'ejnTug5aOSlZYqMpeYgIjpHEoLkAkcaZ06sRA2FD'\n",
    "def fetch_images(date):\n",
    "    url = \"https://api.nasa.gov/mars-photos/api/v1/rovers/curiosity/photos?\"\n",
    "    date = date\n",
    "    params = {\n",
    "          'api_key':API_key,\n",
    "          'earth_date':date,\n",
    "          'hd':'True'\n",
    "      }\n",
    "    response = requests.get(url,params=params).json()\n",
    "    return response['photos'][:3]\n",
    "res = fetch_images('2022-02-06')\n",
    "urls_im = [i['img_src'] for i in res]\n",
    "urls_im"
   ]
  },
  {
   "cell_type": "code",
   "execution_count": 19,
   "id": "666915f7",
   "metadata": {
    "scrolled": false
   },
   "outputs": [
    {
     "data": {
      "text/html": [
       "<img src=\"https://mars.nasa.gov/msl-raw-images/proj/msl/redops/ods/surface/sol/03379/opgs/edr/fcam/FLB_697469295EDR_F0930838FHAZ00302M_.JPG\"/>"
      ],
      "text/plain": [
       "<IPython.core.display.Image object>"
      ]
     },
     "metadata": {},
     "output_type": "display_data"
    },
    {
     "data": {
      "text/html": [
       "<img src=\"https://mars.nasa.gov/msl-raw-images/proj/msl/redops/ods/surface/sol/03379/opgs/edr/fcam/FRB_697469295EDR_F0930838FHAZ00302M_.JPG\"/>"
      ],
      "text/plain": [
       "<IPython.core.display.Image object>"
      ]
     },
     "metadata": {},
     "output_type": "display_data"
    },
    {
     "data": {
      "text/html": [
       "<img src=\"https://mars.nasa.gov/msl-raw-images/proj/msl/redops/ods/surface/sol/03379/opgs/edr/rcam/RLB_697469444EDR_F0930838RHAZ00311M_.JPG\"/>"
      ],
      "text/plain": [
       "<IPython.core.display.Image object>"
      ]
     },
     "metadata": {},
     "output_type": "display_data"
    }
   ],
   "source": [
    "for i in urls_im:\n",
    "    display(Image(url=i))"
   ]
  },
  {
   "cell_type": "code",
   "execution_count": null,
   "id": "717e6066",
   "metadata": {},
   "outputs": [],
   "source": []
  }
 ],
 "metadata": {
  "kernelspec": {
   "display_name": "Python 3 (ipykernel)",
   "language": "python",
   "name": "python3"
  },
  "language_info": {
   "codemirror_mode": {
    "name": "ipython",
    "version": 3
   },
   "file_extension": ".py",
   "mimetype": "text/x-python",
   "name": "python",
   "nbconvert_exporter": "python",
   "pygments_lexer": "ipython3",
   "version": "3.9.7"
  }
 },
 "nbformat": 4,
 "nbformat_minor": 5
}
